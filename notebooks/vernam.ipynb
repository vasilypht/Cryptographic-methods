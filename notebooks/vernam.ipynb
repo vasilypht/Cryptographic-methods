{
 "cells": [
  {
   "cell_type": "code",
   "execution_count": 57,
   "id": "2b4c35b5-3652-41c2-960d-a73c7a9846b8",
   "metadata": {},
   "outputs": [],
   "source": [
    "import numpy as np\n",
    "import random\n"
   ]
  },
  {
   "cell_type": "code",
   "execution_count": 2,
   "id": "ea27dc99-191b-4134-9e0f-5e7795407164",
   "metadata": {},
   "outputs": [],
   "source": [
    "class VernamError(Exception):\n",
    "    pass"
   ]
  },
  {
   "cell_type": "code",
   "execution_count": 49,
   "id": "5048f9e3-a3e7-4c5a-9fc7-f755e701284d",
   "metadata": {},
   "outputs": [],
   "source": [
    "class Vernam:\n",
    "    def __init__(self, key: str):\n",
    "        try:\n",
    "            self.key = bytes.fromhex(key)\n",
    "        except ValueError:\n",
    "            raise VernamError(\"Wrong format key entered (Hex)\")\n",
    "    \n",
    "    @staticmethod\n",
    "    def gen_key(size: int) -> str:\n",
    "        sample = tuple(np.random.randint(0, 256, size))\n",
    "        return bytes(sample).hex()\n",
    "    \n",
    "    def _transform(self, data: bytes or str, mode: str = \"encrypt\"):\n",
    "        if mode not in (\"encrypt\", \"decrypt\"):\n",
    "            raise VernamError(\"!\")\n",
    "        \n",
    "        if not data:\n",
    "            raise VernamError(\"Input text is empty!\")\n",
    "\n",
    "        if not self.key:\n",
    "            raise VernamError(\"The key is missing!\")\n",
    "        \n",
    "        # check input data\n",
    "        match mode, data:\n",
    "            case \"encrypt\", str():\n",
    "                data_bytes = bytearray(data, \"utf-8\")\n",
    "                \n",
    "            case \"decrypt\", str():\n",
    "                data_bytes = bytearray.fromhex(data)\n",
    "            \n",
    "            case _, bytes():\n",
    "                data_bytes = bytearray(data)\n",
    "                \n",
    "            case _:\n",
    "                raise VernamError(f\"Invalid processing type! -> {mode}\")\n",
    "\n",
    "        if len(self.key) != len(data_bytes):\n",
    "            raise VernamError(f\"Key size ({len(self.key)}) and text size ({len(data_bytes)}) in bytes must match!\")\n",
    "\n",
    "        for i in range(len(data_bytes)):\n",
    "            data_bytes[i] ^= self.key[i % len(self.key)]\n",
    "                \n",
    "        # manage output\n",
    "        match mode, data:\n",
    "            case \"encrypt\", str():\n",
    "                return data_bytes.hex()\n",
    "                \n",
    "            case \"decrypt\", str():\n",
    "                return data_bytes.decode(\"utf-8\")\n",
    "            \n",
    "            case _, bytes():\n",
    "                return bytes(data_bytes)\n",
    "                \n",
    "            case _:\n",
    "                raise VernamError(f\"Invalid processing type! -> {mode}\")\n",
    "        \n",
    "    def encrypt(self, data: str or bytes):\n",
    "        return self._transform(data, \"encrypt\")\n",
    "    \n",
    "    def decrypt(self, data: str or bytes):\n",
    "        return self._transform(data, \"decrypt\")"
   ]
  },
  {
   "cell_type": "code",
   "execution_count": null,
   "id": "c97add43-4c18-4a4c-8e2f-dffa4a607740",
   "metadata": {},
   "outputs": [],
   "source": []
  },
  {
   "cell_type": "code",
   "execution_count": 50,
   "id": "309add2c-0379-4b78-b3a3-5ef17078119d",
   "metadata": {},
   "outputs": [],
   "source": [
    "message = \"Hello, World! Привет, Мир! 🐼 🛠 難\""
   ]
  },
  {
   "cell_type": "code",
   "execution_count": 51,
   "id": "a6d72a7c-883a-416f-933c-3c04e7a02583",
   "metadata": {},
   "outputs": [],
   "source": [
    "key = Vernam.gen_key(len(bytes(message, \"utf-8\")))\n",
    "vernam = Vernam(key)"
   ]
  },
  {
   "cell_type": "code",
   "execution_count": 52,
   "id": "150ba32c-ecb8-4567-a7f4-ded783184650",
   "metadata": {},
   "outputs": [
    {
     "name": "stdout",
     "output_type": "stream",
     "text": [
      "encrypted message:  c35667ee2775b6163f2d8a2c9afd5e2f2a7a98eb88e93cf2092f55e9afaae1610d09f887392b3ac5fac51ed1f0739c4659\n"
     ]
    }
   ],
   "source": [
    "encrypted_message = vernam.encrypt(message)\n",
    "print(\"encrypted message: \", encrypted_message)"
   ]
  },
  {
   "cell_type": "code",
   "execution_count": 53,
   "id": "549c15d7-2020-4c6e-89e5-0461b03a6fa7",
   "metadata": {},
   "outputs": [
    {
     "name": "stdout",
     "output_type": "stream",
     "text": [
      "decrypted message:  Hello, World! Привет, Мир! 🐼 🛠 難\n"
     ]
    }
   ],
   "source": [
    "decrypted_message = vernam.decrypt(encrypted_message)\n",
    "print(\"decrypted message: \", decrypted_message)"
   ]
  },
  {
   "cell_type": "code",
   "execution_count": 54,
   "id": "0b992a85-fef8-44a4-b0d5-2d6f5a5d2a84",
   "metadata": {},
   "outputs": [
    {
     "name": "stdout",
     "output_type": "stream",
     "text": [
      "encrypted message:  b\"\\xc3Vg\\xee'u\\xb6\\x16?-\\x8a,\\x9a\\xfd^/*z\\x98\\xeb\\x88\\xe9<\\xf2\\t/U\\xe9\\xaf\\xaa\\xe1a\\r\\t\\xf8\\x879+:\\xc5\\xfa\\xc5\\x1e\\xd1\\xf0s\\x9cFY\"\n"
     ]
    }
   ],
   "source": [
    "message_2 = bytes(message, \"utf-8\")\n",
    "encrypted_message_2 = vernam.encrypt(message_2)\n",
    "print(\"encrypted message: \", encrypted_message_2)"
   ]
  },
  {
   "cell_type": "code",
   "execution_count": 55,
   "id": "2c1057f2-913a-4941-aece-3c60833cc8ea",
   "metadata": {},
   "outputs": [
    {
     "name": "stdout",
     "output_type": "stream",
     "text": [
      "decrypted message:  b'Hello, World! \\xd0\\x9f\\xd1\\x80\\xd0\\xb8\\xd0\\xb2\\xd0\\xb5\\xd1\\x82, \\xd0\\x9c\\xd0\\xb8\\xd1\\x80! \\xf0\\x9f\\x90\\xbc \\xf0\\x9f\\x9b\\xa0 \\xe9\\x9b\\xa3'\n"
     ]
    }
   ],
   "source": [
    "decrypted_message_2 = vernam.decrypt(encrypted_message_2)\n",
    "print(\"decrypted message: \", decrypted_message_2)"
   ]
  },
  {
   "cell_type": "code",
   "execution_count": 56,
   "id": "82e7f4d3-a51b-4ba0-880d-a72a831f3e51",
   "metadata": {},
   "outputs": [
    {
     "data": {
      "text/plain": [
       "'Hello, World! Привет, Мир! 🐼 🛠 難'"
      ]
     },
     "execution_count": 56,
     "metadata": {},
     "output_type": "execute_result"
    }
   ],
   "source": [
    "decrypted_message_2.decode(\"utf-8\")"
   ]
  },
  {
   "cell_type": "code",
   "execution_count": null,
   "id": "c5d71781-cc2d-4f97-8d5f-4a4cfebebc30",
   "metadata": {},
   "outputs": [],
   "source": []
  }
 ],
 "metadata": {
  "kernelspec": {
   "display_name": "Python 3 (ipykernel)",
   "language": "python",
   "name": "python3"
  },
  "language_info": {
   "codemirror_mode": {
    "name": "ipython",
    "version": 3
   },
   "file_extension": ".py",
   "mimetype": "text/x-python",
   "name": "python",
   "nbconvert_exporter": "python",
   "pygments_lexer": "ipython3",
   "version": "3.10.2"
  }
 },
 "nbformat": 4,
 "nbformat_minor": 5
}
