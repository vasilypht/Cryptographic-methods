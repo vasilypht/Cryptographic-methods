{
 "cells": [
  {
   "cell_type": "code",
   "execution_count": 430,
   "id": "77f26cca-27b7-44e3-ac8d-0257f6ade0bf",
   "metadata": {},
   "outputs": [],
   "source": [
    "from pprint import pprint\n",
    "from collections import Counter\n",
    "from itertools import zip_longest\n",
    "\n",
    "from typing import Final\n"
   ]
  },
  {
   "cell_type": "code",
   "execution_count": 431,
   "id": "54341e15-e970-4172-bfac-d59f0b34c9df",
   "metadata": {},
   "outputs": [],
   "source": [
    "m = \"влцдутжбюцхъяррмшбрхцэооэцгбрьцмйфктъъюьмшэсяцпунуящэйтаьэдкцибрьцгбрпачкъуцпъбьсэгкцъгуущарцёэвърюуоюэкааэбрняфукабъарпяъафкъиьжяффнйояфывбнэнфуюгбрьсшьжэтбэёчюъюръегофкбьчябашвёэуъъюаднчжчужцёэвлрнчулбюпцуруньъшсэюъзкцхъяррнрювяспэмасчкпэужьжыатуфуярюравртубурьпэщлафоуфбюацмнубсюкйтаьэдйюнооэгюожбгкбрънцэпотчмёодзцвбцшщвщепчдчдръюьскасэгъппэгюкдойрсрэвоопчщшоказръббнэугнялёкьсрбёуыэбдэулбюасшоуэтъшкрсдугэфлбубуъчнчтртпэгюкиугюэмэгюккъъпэгяапуфуэзьрадзьжчюрмфцхраююанчёчюъыхьъцомэфъцпоирькнщпэтэузуябащущбаыэйчдфрпэцъьрьцъцпоилуфэдцойэдятррачкубуфнйтаьэдкцкрннцюабугюуубурьпйюэъжтгюркующоъуфъэгясуоичщщчдцсфырэдщэъуяфшёчцюйрщвяхвмкршрпгюопэуцчйтаьэдкцибрьцыяжтюрбуэтэбдуящэубъибрювъежагибрбагбрымпуноцшяжцечкфодщоъчжшйуъцхчщвуэбдлдъэгясуахзцэбдэулькнъщбжяцэьрёдъьвювлрнуяфуоухфекьгцчччгэъжтанопчынажпачкъуъмэнкйрэфщэъьбудэндадъярьеюэлэтчоубъцэфэвлнёэгфдсэвэёкбсчоукгаутэыпуббцчкпэгючсаъбэнэфъркацхёваетуфяепьрювържадфёжбьфутощоявьъгупчршуитеачйчирамчюфчоуяюонкяжыкгсцбрясшчйотъъжрсщчл\""
   ]
  },
  {
   "cell_type": "code",
   "execution_count": 432,
   "id": "c6c717e4-06d8-4a68-86c3-c3e8f42082ef",
   "metadata": {},
   "outputs": [],
   "source": [
    "ENG_LCASE: Final = \"abcdefghijklmnopqrstuvwxyz\"\n",
    "RUS_LCASE: Final = \"абвгдеёжзийклмнопрстуфхцчшщъыьэюя\"\n",
    "\n",
    "_ALPHABETS: Final = {\n",
    "    \"russian\": RUS_LCASE,\n",
    "    \"english\": ENG_LCASE\n",
    "}\n",
    "\n",
    "IC_TABLE: Final = {\n",
    "    \"russian\": 0.0553,\n",
    "    \"english\": 0.0644\n",
    "}"
   ]
  },
  {
   "cell_type": "code",
   "execution_count": 433,
   "id": "13fc5db9-a170-4a79-bf6b-7f4f3537a812",
   "metadata": {},
   "outputs": [],
   "source": [
    "class ICError(Exception):\n",
    "    pass\n",
    "\n",
    "\n",
    "class IndexOfCoincidence:\n",
    "    def __init__(self, text: str, max_len: int = 20, delta: float = 0.001, lang: str = \"english\"):\n",
    "        self.text = text.lower()\n",
    "        self.max_len = max_len\n",
    "        self.delta = delta\n",
    "\n",
    "        if lang not in _ALPHABETS.keys():\n",
    "            raise ICError(f\"The selected language must be from the list -> {_ALPHABETS.keys()}\")\n",
    "\n",
    "        if lang not in IC_TABLE.keys():\n",
    "            raise ICError(f\"The selected language must be from the list -> {IC_TABLE.keys()}\")\n",
    "\n",
    "        self.alphabet = _ALPHABETS.get(lang)\n",
    "        self.threshold = IC_TABLE.get(lang)\n",
    "\n",
    "        if not set(self.text).issubset(self.alphabet):\n",
    "            raise ICError(\"The text you entered contains invalid characters.\")\n",
    "\n",
    "    def ic(self, counter: Counter or dict) -> float:\n",
    "        numerator = sum(counter[letter] * (counter[letter] - 1) for letter in self.alphabet)\n",
    "        size = sum(counter.values())\n",
    "        denominator = size * (size - 1)\n",
    "        if denominator == 0:\n",
    "            denominator = 0.0000001\n",
    "        return numerator / denominator\n",
    "\n",
    "    def mic(self, counter_1: Counter or dict, counter_2: Counter or dict):\n",
    "        numerator = sum(counter_1[letter] * counter_2[letter] for letter in self.alphabet)\n",
    "        size_1 = sum(counter_1.values())\n",
    "        size_2 = sum(counter_2.values())\n",
    "        denominator = size_1 * size_2\n",
    "        return numerator / denominator\n",
    "\n",
    "    def _shift_text(self, text: str, shift: int) -> str:\n",
    "        text_list = list(text)\n",
    "\n",
    "        for i in range(len(text)):\n",
    "            letter = text_list[i]\n",
    "            letter_pos = self.alphabet.index(letter)\n",
    "            new_letter_pos = (letter_pos + shift) % len(self.alphabet)\n",
    "            new_letter = self.alphabet[new_letter_pos]\n",
    "            text_list[i] = new_letter\n",
    "\n",
    "        return \"\".join(text_list)\n",
    "\n",
    "    def _find_column_shifts(self, columns: tuple):\n",
    "        shifts = [0]\n",
    "\n",
    "        for i in range(1, len(columns)):\n",
    "            for shift in range(32):\n",
    "                shifted_column = self._shift_text(columns[i], shift)\n",
    "                mic = self.mic(Counter(columns[0]), Counter(shifted_column))\n",
    "                if mic > self.threshold - self.delta:\n",
    "                    shifts.append(shift)\n",
    "                    break\n",
    "\n",
    "        return shifts\n",
    "\n",
    "    def find_key_length(self):\n",
    "        for k in range(1, self.max_len + 1):\n",
    "            groups = tuple(self.text[i:i + k] for i in range(0, len(self.text), k))\n",
    "            ics = [self.ic(Counter(\"\".join(column))) for column in zip_longest(*groups, fillvalue=\"\")]\n",
    "            ic_mean = sum(ics) / len(ics)\n",
    "            if ic_mean > self.threshold - self.delta:\n",
    "                return k\n",
    "\n",
    "    def find_possible_keys(self, key_length: int) -> tuple[str]:\n",
    "        groups = tuple(self.text[i:i + key_length] for i in range(0, len(self.text), key_length))\n",
    "        columns = tuple(\"\".join(column) for column in zip_longest(*groups, fillvalue=\"\"))\n",
    "        shifts = self._find_column_shifts(columns)\n",
    "\n",
    "        shifted_columns = [columns[0]]\n",
    "        for i in range(1, len(columns)):\n",
    "            shifted_column = self._shift_text(columns[0], -shifts[i])\n",
    "            shifted_columns.append(shifted_column)\n",
    "\n",
    "        unique_keys = set(\"\".join(value) for value in zip_longest(*shifted_columns, fillvalue=\"\"))\n",
    "        return tuple(unique_keys)\n"
   ]
  },
  {
   "cell_type": "code",
   "execution_count": 435,
   "id": "ef730a8b-c883-4946-a711-98c870f32120",
   "metadata": {},
   "outputs": [
    {
     "name": "stdout",
     "output_type": "stream",
     "text": [
      "5\n"
     ]
    },
    {
     "data": {
      "text/plain": [
       "('эчънъ',\n",
       " 'быюсю',\n",
       " 'фосес',\n",
       " 'слово',\n",
       " 'ыхшлш',\n",
       " 'ящьпь',\n",
       " 'еявхв',\n",
       " 'дюбфб',\n",
       " 'мжйэй',\n",
       " 'вьятя',\n",
       " 'юшыоы',\n",
       " 'ьцщмщ',\n",
       " 'звеше',\n",
       " 'тмпгп',\n",
       " 'оилял',\n",
       " 'нзкюк',\n",
       " 'аъэрэ',\n",
       " 'жбдчд',\n",
       " 'гэауа',\n",
       " 'унрдр',\n",
       " 'хптёт',\n",
       " 'йджъж',\n",
       " 'щуцйц',\n",
       " 'игёщё',\n",
       " 'ъфчкч',\n",
       " 'ркнбн',\n",
       " 'кезыз',\n",
       " 'цружу')"
      ]
     },
     "execution_count": 435,
     "metadata": {},
     "output_type": "execute_result"
    }
   ],
   "source": [
    "ic = IndexOfCoincidence(m, lang=\"russian\")\n",
    "key_length = ic.find_key_length()\n",
    "print(key_length)\n",
    "ic.find_possible_keys(key_length)"
   ]
  },
  {
   "cell_type": "code",
   "execution_count": null,
   "id": "5432e10c-4708-4281-936b-fa6666b6501f",
   "metadata": {},
   "outputs": [],
   "source": []
  }
 ],
 "metadata": {
  "kernelspec": {
   "display_name": "Python 3 (ipykernel)",
   "language": "python",
   "name": "python3"
  },
  "language_info": {
   "codemirror_mode": {
    "name": "ipython",
    "version": 3
   },
   "file_extension": ".py",
   "mimetype": "text/x-python",
   "name": "python",
   "nbconvert_exporter": "python",
   "pygments_lexer": "ipython3",
   "version": "3.10.2"
  }
 },
 "nbformat": 4,
 "nbformat_minor": 5
}
