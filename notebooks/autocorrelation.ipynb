{
 "cells": [
  {
   "cell_type": "code",
   "execution_count": 33,
   "id": "062880a5-b54d-4c9e-ac2d-419f5b5bc876",
   "metadata": {
    "pycharm": {
     "name": "#%%\n"
    }
   },
   "outputs": [],
   "source": [
    "from itertools import zip_longest\n",
    "from scipy.stats import chisquare\n",
    "import numpy as np\n",
    "from collections import Counter\n",
    "\n",
    "from typing import Final"
   ]
  },
  {
   "cell_type": "code",
   "execution_count": 38,
   "id": "670a6acc-7b8d-4ac9-91c8-4c445d35d413",
   "metadata": {
    "pycharm": {
     "name": "#%%\n"
    }
   },
   "outputs": [],
   "source": [
    "ENG_LCASE: Final = \"abcdefghijklmnopqrstuvwxyz\"\n",
    "RUS_LCASE: Final = \"абвгдеёжзийклмнопрстуфхцчшщъыьэюя\"\n",
    "\n",
    "_ALPHABETS: Final = {\n",
    "    \"russian\": RUS_LCASE,\n",
    "    \"english\": ENG_LCASE\n",
    "}\n",
    "\n",
    "IC_TABLE: Final = {\n",
    "    \"russian\": 0.0553,\n",
    "    \"english\": 0.0644\n",
    "}\n",
    "\n",
    "ENG_LETTER_FREQ_COMMON = {\n",
    "    \"a\": 8.12,  \"b\": 1.49,  \"c\": 2.71,  \"d\": 4.32,  \"e\": 12.02, \"f\": 2.30,  \"g\": 2.03,\n",
    "    \"h\": 5.92,  \"i\": 7.31,  \"j\": 0.10,  \"k\": 0.69,  \"l\": 3.98,  \"m\": 2.61,  \"n\": 6.95,\n",
    "    \"o\": 7.68,  \"p\": 1.82,  \"q\": 0.11,  \"r\": 6.02,  \"s\": 6.28,  \"t\": 9.10,  \"u\": 2.88,\n",
    "    \"v\": 1.11,  \"w\": 2.09,  \"x\": 0.17,  \"y\": 2.11,  \"z\": 0.07\n",
    "}\n",
    "\n",
    "RUS_LETTER_FREQ_COMMON = {\n",
    "    \"а\": 8.01,  \"б\": 1.59,  \"в\": 4.54,  \"г\": 1.70,  \"д\": 2.98,  \"е\": 8.45,  \"ё\": 0.04,\n",
    "    \"ж\": 0.94,  \"з\": 1.65,  \"и\": 7.35,  \"й\": 1.21,  \"к\": 3.49,  \"л\": 4.40,  \"м\": 3.21,\n",
    "    \"н\": 6.70,  \"о\": 10.96, \"п\": 2.81,  \"р\": 4.73,  \"с\": 5.47,  \"т\": 6.26,  \"у\": 2.62,\n",
    "    \"ф\": 0.26,  \"х\": 0.97,  \"ц\": 0.48,  \"ч\": 1.44,  \"ш\": 0.73,  \"щ\": 0.36,  \"ъ\": 0.04,\n",
    "    \"ы\": 1.90,  \"ь\": 1.74,  \"э\": 0.32,  \"ю\": 0.64,  \"я\": 2.01\n",
    "}\n",
    "\n",
    "\n",
    "FREQ_TABLES: Final = {\n",
    "    \"russian\": {\n",
    "        \"common\": RUS_LETTER_FREQ_COMMON\n",
    "    },\n",
    "    \"english\": {\n",
    "        \"common\": ENG_LETTER_FREQ_COMMON\n",
    "    }\n",
    "}"
   ]
  },
  {
   "cell_type": "code",
   "execution_count": 39,
   "id": "9017ffcd-eeda-4678-8e13-00f4d051dd72",
   "metadata": {
    "pycharm": {
     "name": "#%%\n"
    }
   },
   "outputs": [],
   "source": [
    "m = \"влцдутжбюцхъяррмшбрхцэооэцгбрьцмйфктъъюьмшэсяцпунуящэйтаьэдкцибрьцгбрпачкъуцпъбьсэгкцъгуущарцёэвърюуоюэкааэбрняфукабъарпяъафкъиьжяффнйояфывбнэнфуюгбрьсшьжэтбэёчюъюръегофкбьчябашвёэуъъюаднчжчужцёэвлрнчулбюпцуруньъшсэюъзкцхъяррнрювяспэмасчкпэужьжыатуфуярюравртубурьпэщлафоуфбюацмнубсюкйтаьэдйюнооэгюожбгкбрънцэпотчмёодзцвбцшщвщепчдчдръюьскасэгъппэгюкдойрсрэвоопчщшоказръббнэугнялёкьсрбёуыэбдэулбюасшоуэтъшкрсдугэфлбубуъчнчтртпэгюкиугюэмэгюккъъпэгяапуфуэзьрадзьжчюрмфцхраююанчёчюъыхьъцомэфъцпоирькнщпэтэузуябащущбаыэйчдфрпэцъьрьцъцпоилуфэдцойэдятррачкубуфнйтаьэдкцкрннцюабугюуубурьпйюэъжтгюркующоъуфъэгясуоичщщчдцсфырэдщэъуяфшёчцюйрщвяхвмкршрпгюопэуцчйтаьэдкцибрьцыяжтюрбуэтэбдуящэубъибрювъежагибрбагбрымпуноцшяжцечкфодщоъчжшйуъцхчщвуэбдлдъэгясуахзцэбдэулькнъщбжяцэьрёдъьвювлрнуяфуоухфекьгцчччгэъжтанопчынажпачкъуъмэнкйрэфщэъьбудэндадъярьеюэлэтчоубъцэфэвлнёэгфдсэвэёкбсчоукгаутэыпуббцчкпэгючсаъбэнэфъркацхёваетуфяепьрювържадфёжбьфутощоявьъгупчршуитеачйчирамчюфчоуяюонкяжыкгсцбрясшчйотъъжрсщчл\""
   ]
  },
  {
   "cell_type": "code",
   "execution_count": 42,
   "id": "a347a1c4-03b3-4ad3-8707-b75ba85be200",
   "metadata": {
    "pycharm": {
     "name": "#%%\n"
    }
   },
   "outputs": [],
   "source": [
    "class AutocorrError(Exception):\n",
    "    pass\n",
    "\n",
    "\n",
    "class Autocorrelation:\n",
    "    def __init__(self, text, delta: float = 0.001, max_len: int = 20, lang: str = \"english\"):\n",
    "        self.text = text.lower()\n",
    "        self.delta = delta\n",
    "        self.max_len = max_len\n",
    "\n",
    "        if lang not in _ALPHABETS.keys():\n",
    "            raise Exception(f\"The selected language must be from the list -> {_ALPHABETS.keys()}\")\n",
    "\n",
    "        if lang not in FREQ_TABLES.keys():\n",
    "            raise Exception(f\"The selected language must be from the list -> {FREQ_TABLES.keys()}\")\n",
    "\n",
    "        if lang not in IC_TABLE.keys():\n",
    "            raise Exception(f\"The selected language must be from the list -> {IC_TABLE.keys()}\")\n",
    "\n",
    "        self.lang = lang\n",
    "        self.alphabet = _ALPHABETS.get(lang)\n",
    "        self.threshold = IC_TABLE.get(lang)\n",
    "        self.freq_table = list(FREQ_TABLES.get(lang).get(\"common\").values())\n",
    "\n",
    "        if not set(self.text).issubset(self.alphabet):\n",
    "            raise AutocorrError(\"The text you entered contains invalid characters.\")\n",
    "\n",
    "    def find_possible_key_length(self):\n",
    "        for t in range(1, min((len(self.text), self.max_len))):\n",
    "            n = sum(1 for i in range(len(self.text) - t) if self.text[i] == self.text[i + t])\n",
    "            autocorr_coff = n / (len(self.text) - t)\n",
    "            if autocorr_coff > self.threshold - self.delta:\n",
    "                return t\n",
    "\n",
    "    def find_possible_key(self, key_len: int):\n",
    "        groups = tuple(self.text[i:i + key_len] for i in range(0, len(self.text), key_len))\n",
    "        columns = tuple(\"\".join(column) for column in zip_longest(*groups, fillvalue=\"\"))\n",
    "\n",
    "        keys = []\n",
    "        for column in columns:\n",
    "            chi2_stats = []\n",
    "            column_counter = dict.fromkeys(self.alphabet, 0.0000001)\n",
    "            column_counter.update(Counter(column))\n",
    "            column_freqs = list(column_counter.values())\n",
    "\n",
    "            column_freqs = list(map(lambda x: x / sum(column_freqs) * 100, column_freqs))\n",
    "            for i in range(len(self.alphabet)):\n",
    "                shifted_column_freqs = column_freqs[i:] + column_freqs[:i]\n",
    "                chi2_stats.append(chisquare(shifted_column_freqs, self.freq_table).statistic)\n",
    "\n",
    "            keys.append(np.argmin(chi2_stats))\n",
    "        return \"\".join(map(lambda x: self.alphabet[x], keys))\n"
   ]
  },
  {
   "cell_type": "code",
   "execution_count": 43,
   "id": "7c548812-1177-439b-b12c-980147384eb4",
   "metadata": {
    "pycharm": {
     "name": "#%%\n"
    }
   },
   "outputs": [
    {
     "data": {
      "text/plain": [
       "'слово'"
      ]
     },
     "execution_count": 43,
     "metadata": {},
     "output_type": "execute_result"
    }
   ],
   "source": [
    "Autocorrelation(m, lang=\"russian\").find_possible_key(5)"
   ]
  },
  {
   "cell_type": "code",
   "execution_count": null,
   "id": "211dd2b6-3bde-46ef-9959-0326e8e2e9e9",
   "metadata": {
    "pycharm": {
     "name": "#%%\n"
    }
   },
   "outputs": [],
   "source": []
  },
  {
   "cell_type": "code",
   "execution_count": null,
   "id": "a9809ee2-1e80-4262-a199-31f02e6ceefa",
   "metadata": {
    "pycharm": {
     "name": "#%%\n"
    }
   },
   "outputs": [],
   "source": []
  },
  {
   "cell_type": "code",
   "execution_count": null,
   "id": "221ea116-51ae-4b0f-9541-6d1bb2eee57e",
   "metadata": {
    "pycharm": {
     "name": "#%%\n"
    }
   },
   "outputs": [],
   "source": []
  }
 ],
 "metadata": {
  "kernelspec": {
   "display_name": "Python 3 (ipykernel)",
   "language": "python",
   "name": "python3"
  },
  "language_info": {
   "codemirror_mode": {
    "name": "ipython",
    "version": 3
   },
   "file_extension": ".py",
   "mimetype": "text/x-python",
   "name": "python",
   "nbconvert_exporter": "python",
   "pygments_lexer": "ipython3",
   "version": "3.10.2"
  }
 },
 "nbformat": 4,
 "nbformat_minor": 5
}