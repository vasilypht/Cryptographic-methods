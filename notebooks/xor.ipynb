{
 "cells": [
  {
   "cell_type": "code",
   "execution_count": 14,
   "id": "4e8d0b99-d25a-4598-8ad5-1b91ec384584",
   "metadata": {},
   "outputs": [],
   "source": [
    "import numpy as np\n",
    "from pprint import pprint"
   ]
  },
  {
   "cell_type": "code",
   "execution_count": 2,
   "id": "cacac570-7d21-4e39-a433-6ff5dbcd40e9",
   "metadata": {},
   "outputs": [],
   "source": [
    "class XORError(Exception):\n",
    "    pass"
   ]
  },
  {
   "cell_type": "code",
   "execution_count": 64,
   "id": "6678ae96-4ab8-48dd-a5e5-859a0a788e17",
   "metadata": {},
   "outputs": [],
   "source": [
    "class XOR:\n",
    "    def __init__(self, key: str):\n",
    "        try:\n",
    "            self.key = bytes.fromhex(key)\n",
    "        except ValueError:\n",
    "            raise XORError(\"Wrong format key entered (Hex)\")\n",
    "        \n",
    "        self.index_key = 0\n",
    "        \n",
    "    def set_options(key: tuple[int]):\n",
    "        self.key = key\n",
    "    \n",
    "    def _transform(self, data: bytes or str, mode: str = \"encrypt\", reset_state: bool = True):\n",
    "        if mode not in (\"encrypt\", \"decrypt\"):\n",
    "            raise XORError(\"The processing type does not match the allowed values! ('encrypt' or 'decrypt')\")\n",
    "        \n",
    "        if not data:\n",
    "            raise XORError(\"The input data is empty!\")\n",
    "\n",
    "        if not self.key:\n",
    "            raise XORError(\"Encryption key not set!\")\n",
    "        \n",
    "        # check input data\n",
    "        match mode, data:\n",
    "            case \"encrypt\", str():\n",
    "                data_bytes = bytearray(data, \"utf-8\")\n",
    "                \n",
    "            case \"decrypt\", str():\n",
    "                data_bytes = bytearray.fromhex(data)\n",
    "            \n",
    "            case _, bytes():\n",
    "                data_bytes = bytearray(data)\n",
    "                \n",
    "            case _:\n",
    "                raise XORError(f\"Invalid processing type! -> {mode}\")\n",
    "        \n",
    "        if reset_state:\n",
    "            self.index_key = 0\n",
    "\n",
    "        for i in range(len(data_bytes)):\n",
    "            data_bytes[i] ^= self.key[self.index_key % len(self.key)]\n",
    "            self.index_key = (self.index_key + 1) % len(self.key)\n",
    "                \n",
    "        # manage output\n",
    "        match mode, data:\n",
    "            case \"encrypt\", str():\n",
    "                return data_bytes.hex()\n",
    "                \n",
    "            case \"decrypt\", str():\n",
    "                return data_bytes.decode(\"utf-8\")\n",
    "            \n",
    "            case _, bytes():\n",
    "                return bytes(data_bytes)\n",
    "                \n",
    "            case _:\n",
    "                raise XORError(f\"Invalid processing type! -> {mode}\")\n",
    "        \n",
    "    def encrypt(self, data: str or bytes, reset_state: bool = True):\n",
    "        return self._transform(data, \"encrypt\", reset_state)\n",
    "    \n",
    "    def decrypt(self, data: str or bytes, reset_state: bool = True):\n",
    "        return self._transform(data, \"decrypt\", reset_state)"
   ]
  },
  {
   "cell_type": "code",
   "execution_count": 66,
   "id": "df67b013-cf61-4f43-aee9-55c5dd708c6c",
   "metadata": {},
   "outputs": [],
   "source": [
    "key = (12, 34, 65, 123, 42, 223)\n",
    "key_hex = bytes(key).hex()\n",
    "cipher = XOR(key_hex)\n",
    "message = \"Hello, World! Привет, Мир! 🐼 🛠 難\""
   ]
  },
  {
   "cell_type": "code",
   "execution_count": 67,
   "id": "c882c7c6-ab5c-44e8-b5b1-e33ff2bf299c",
   "metadata": {},
   "outputs": [
    {
     "name": "stdout",
     "output_type": "stream",
     "text": [
      "'44472d1745f32c752e0946bb2d0291e4fb5fdc9a91c9fa6adda06d5bfa43dc9a90fb0bfffcbdd1c70a2f93b9e15bc344af'\n"
     ]
    }
   ],
   "source": [
    "encrypted_message = cipher.encrypt(message)\n",
    "pprint(encrypted_message)"
   ]
  },
  {
   "cell_type": "code",
   "execution_count": null,
   "outputs": [],
   "source": [
    "decrypted_message = cipher.decrypt(encrypted_message)\n",
    "pprint(decrypted_message)"
   ],
   "metadata": {
    "collapsed": false,
    "pycharm": {
     "name": "#%%\n"
    }
   }
  },
  {
   "cell_type": "code",
   "execution_count": null,
   "outputs": [],
   "source": [
    "encrypted_message = cipher.encrypt(message)\n",
    "pprint(encrypted_message)"
   ],
   "metadata": {
    "collapsed": false,
    "pycharm": {
     "name": "#%%\n"
    }
   }
  },
  {
   "cell_type": "code",
   "execution_count": 69,
   "id": "fd4e47db-7a94-4d6a-bedf-25aea29da22d",
   "metadata": {},
   "outputs": [
    {
     "name": "stdout",
     "output_type": "stream",
     "text": [
      "'44472d1745f32c752e0946bb2d0291e4fb5fdc9a91c9fa6adda06d5bfa43dc9a90fb0bfffcbdd1c70a2f93b9e15bc344af'\n"
     ]
    }
   ],
   "source": [
    "encrypted_message = cipher.encrypt(message)\n",
    "pprint(encrypted_message)"
   ]
  },
  {
   "cell_type": "code",
   "execution_count": 70,
   "id": "59b32937-01a1-45ec-8911-77cf3997ebe6",
   "metadata": {},
   "outputs": [
    {
     "name": "stdout",
     "output_type": "stream",
     "text": [
      "'44472d1745f32c752e0946bb2d0291e4fb5fdc9a91c9fa6adda06d5bfa43dc9a90fb0bfffcbdd1c70a2f93b9e15bc344af'\n"
     ]
    }
   ],
   "source": [
    "encrypted_message = cipher.encrypt(message, reset_state=True)\n",
    "pprint(encrypted_message)"
   ]
  },
  {
   "cell_type": "code",
   "execution_count": 71,
   "id": "58b33783-c251-42f9-b106-b0509c2c9481",
   "metadata": {},
   "outputs": [
    {
     "name": "stdout",
     "output_type": "stream",
     "text": [
      "'6a241746b02002161458b3680361abb50e8cf2f9ab980fb9f3c3570a0f90f2f9aaaafe2cd2deeb96fffcbddadb0a369781'\n"
     ]
    }
   ],
   "source": [
    "encrypted_message = cipher.encrypt(message, reset_state=False)\n",
    "pprint(encrypted_message)"
   ]
  },
  {
   "cell_type": "code",
   "execution_count": 72,
   "id": "91e2edd9-11cd-45ab-8b61-feacbdf855a9",
   "metadata": {},
   "outputs": [
    {
     "data": {
      "text/plain": [
       "2"
      ]
     },
     "execution_count": 72,
     "metadata": {},
     "output_type": "execute_result"
    }
   ],
   "source": [
    "cipher.index_key"
   ]
  },
  {
   "cell_type": "code",
   "execution_count": null,
   "id": "8a4196d3-76d8-42e2-908c-78a3606954bf",
   "metadata": {},
   "outputs": [],
   "source": []
  }
 ],
 "metadata": {
  "kernelspec": {
   "display_name": "Python 3 (ipykernel)",
   "language": "python",
   "name": "python3"
  },
  "language_info": {
   "codemirror_mode": {
    "name": "ipython",
    "version": 3
   },
   "file_extension": ".py",
   "mimetype": "text/x-python",
   "name": "python",
   "nbconvert_exporter": "python",
   "pygments_lexer": "ipython3",
   "version": "3.10.2"
  }
 },
 "nbformat": 4,
 "nbformat_minor": 5
}