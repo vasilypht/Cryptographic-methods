{
 "cells": [
  {
   "cell_type": "code",
   "execution_count": 20,
   "id": "f64dac7f-680e-4842-99fc-19666582a378",
   "metadata": {},
   "outputs": [],
   "source": [
    "from math import gcd"
   ]
  },
  {
   "cell_type": "code",
   "execution_count": 21,
   "id": "9a9b9c59-2a12-46b6-afed-436ba1777c95",
   "metadata": {},
   "outputs": [],
   "source": [
    "m = \"влцдутжбюцхъяррмшбрхцэооэцгбрьцмйфктъъюьмшэсяцпунуящэйтаьэдкцибрьцгбрпачкъуцпъбьсэгкцъгуущарцёэвърюуоюэкааэбрняфукабъарпяъафкъиьжяффнйояфывбнэнфуюгбрьсшьжэтбэёчюъюръегофкбьчябашвёэуъъюаднчжчужцёэвлрнчулбюпцуруньъшсэюъзкцхъяррнрювяспэмасчкпэужьжыатуфуярюравртубурьпэщлафоуфбюацмнубсюкйтаьэдйюнооэгюожбгкбрънцэпотчмёодзцвбцшщвщепчдчдръюьскасэгъппэгюкдойрсрэвоопчщшоказръббнэугнялёкьсрбёуыэбдэулбюасшоуэтъшкрсдугэфлбубуъчнчтртпэгюкиугюэмэгюккъъпэгяапуфуэзьрадзьжчюрмфцхраююанчёчюъыхьъцомэфъцпоирькнщпэтэузуябащущбаыэйчдфрпэцъьрьцъцпоилуфэдцойэдятррачкубуфнйтаьэдкцкрннцюабугюуубурьпйюэъжтгюркующоъуфъэгясуоичщщчдцсфырэдщэъуяфшёчцюйрщвяхвмкршрпгюопэуцчйтаьэдкцибрьцыяжтюрбуэтэбдуящэубъибрювъежагибрбагбрымпуноцшяжцечкфодщоъчжшйуъцхчщвуэбдлдъэгясуахзцэбдэулькнъщбжяцэьрёдъьвювлрнуяфуоухфекьгцчччгэъжтанопчынажпачкъуъмэнкйрэфщэъьбудэндадъярьеюэлэтчоубъцэфэвлнёэгфдсэвэёкбсчоукгаутэыпуббцчкпэгючсаъбэнэфъркацхёваетуфяепьрювържадфёжбьфутощоявьъгупчршуитеачйчирамчюфчоуяюонкяжыкгсцбрясшчйотъъжрсщчл\""
   ]
  },
  {
   "cell_type": "code",
   "execution_count": 22,
   "id": "c4b443f0-c6ab-4cf4-8b36-56ce3f69135d",
   "metadata": {},
   "outputs": [],
   "source": [
    "class Kasiski:\n",
    "    def __init__(self, text: str, seq_len: int = 3, threshold: int = 3, min_len: int = 3, max_len: int = 20):\n",
    "        self.text = text.lower()\n",
    "        self.seq_len = seq_len\n",
    "        self.threshold = threshold\n",
    "        self.min_len = min_len\n",
    "        self.max_len = max_len\n",
    "\n",
    "    @staticmethod\n",
    "    def sequence_counter(text, seq_len: int = 3, threshold: int = 3):\n",
    "        seq_counter = {}\n",
    "        for i, letter in enumerate(text):\n",
    "            seq = text[i:i + seq_len]\n",
    "            if seq in seq_counter.keys():\n",
    "                seq_counter[seq].append(i)\n",
    "            else:\n",
    "                seq_counter[seq] = [i]\n",
    "\n",
    "        filtered_seq_counter = {key: seq_counter[key] for key in\n",
    "                                filter(lambda x: len(seq_counter[x]) >= threshold, seq_counter)}\n",
    "        return filtered_seq_counter\n",
    "\n",
    "    @staticmethod\n",
    "    def get_distances(positions):\n",
    "        return [positions[i + 1] - positions[i] for i in range(len(positions) - 1)]\n",
    "\n",
    "    def find_possible_key_lengths(self):\n",
    "        possible_lengths = set()\n",
    "        seq_counter = self.sequence_counter(self.text, self.seq_len, self.threshold)\n",
    "\n",
    "        for positions in seq_counter.values():\n",
    "            distances = self.get_distances(positions)\n",
    "            possible_len = gcd(*distances)\n",
    "            if self.min_len <= possible_len <= self.max_len:\n",
    "                possible_lengths.add(possible_len)\n",
    "        return sorted(possible_lengths)"
   ]
  },
  {
   "cell_type": "code",
   "execution_count": 23,
   "id": "31997628-6f90-42c1-921d-06f8fbc053f4",
   "metadata": {},
   "outputs": [
    {
     "data": {
      "text/plain": [
       "[5, 10, 15]"
      ]
     },
     "execution_count": 23,
     "metadata": {},
     "output_type": "execute_result"
    }
   ],
   "source": [
    "kasiski = Kasiski(m, seq_len=3)\n",
    "kasiski.find_possible_key_lengths()"
   ]
  },
  {
   "cell_type": "code",
   "execution_count": null,
   "id": "5c12c509-da52-45d6-a513-f3dcaffe9e73",
   "metadata": {},
   "outputs": [],
   "source": []
  }
 ],
 "metadata": {
  "kernelspec": {
   "display_name": "Python 3 (ipykernel)",
   "language": "python",
   "name": "python3"
  },
  "language_info": {
   "codemirror_mode": {
    "name": "ipython",
    "version": 3
   },
   "file_extension": ".py",
   "mimetype": "text/x-python",
   "name": "python",
   "nbconvert_exporter": "python",
   "pygments_lexer": "ipython3",
   "version": "3.10.2"
  }
 },
 "nbformat": 4,
 "nbformat_minor": 5
}
